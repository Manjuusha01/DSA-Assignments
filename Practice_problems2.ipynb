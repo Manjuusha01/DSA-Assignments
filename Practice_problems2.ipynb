{
  "nbformat": 4,
  "nbformat_minor": 0,
  "metadata": {
    "colab": {
      "provenance": []
    },
    "kernelspec": {
      "name": "python3",
      "display_name": "Python 3"
    },
    "language_info": {
      "name": "python"
    }
  },
  "cells": [
    {
      "cell_type": "code",
      "execution_count": null,
      "metadata": {
        "id": "jVGKsq6cHz08"
      },
      "outputs": [],
      "source": [
        "#Practice problems 2"
      ]
    },
    {
      "cell_type": "markdown",
      "source": [
        "1."
      ],
      "metadata": {
        "id": "e2hVjTPEIGa5"
      }
    },
    {
      "cell_type": "code",
      "source": [
        "def count_characters(string):\n",
        "  char_count = {}\n",
        "\n",
        "  for char in string:\n",
        "    char_count[char] = char_count.get(char, 0)\n",
        "    return char_count\n",
        "\n",
        "user_input = input(\"Enter a string: \")\n",
        "\n",
        "result = count_characters(user_input)\n",
        "\n",
        "\n",
        "for char, count in result.items():\n",
        "  print(f\"{char} = {count}\")"
      ],
      "metadata": {
        "id": "NahWTF20ITSv",
        "colab": {
          "base_uri": "https://localhost:8080/"
        },
        "outputId": "287f71ae-1647-40b6-c7b7-a22128282d64"
      },
      "execution_count": null,
      "outputs": [
        {
          "output_type": "stream",
          "name": "stdout",
          "text": [
            "Enter a string: python\n",
            "p = 0\n"
          ]
        }
      ]
    },
    {
      "cell_type": "markdown",
      "source": [
        "2.\n"
      ],
      "metadata": {
        "id": "4Dyu5CtpI0pS"
      }
    },
    {
      "cell_type": "code",
      "source": [
        "a,b,c = input(\"Enter three numbers: \").split(\",\")\n",
        "\n",
        "maximum = max(a,b,c)\n",
        "\n",
        "print(maximum)"
      ],
      "metadata": {
        "colab": {
          "base_uri": "https://localhost:8080/"
        },
        "id": "u7x1-EL0I2IE",
        "outputId": "0ae175a6-6273-457d-95fe-5e174c6750b7"
      },
      "execution_count": null,
      "outputs": [
        {
          "output_type": "stream",
          "name": "stdout",
          "text": [
            "Enter three numbers: 24,26,28\n",
            "28\n"
          ]
        }
      ]
    },
    {
      "cell_type": "markdown",
      "source": [
        "3."
      ],
      "metadata": {
        "id": "S4U-IyTJJkZT"
      }
    },
    {
      "cell_type": "code",
      "source": [
        "def exponent(base,exp):\n",
        "  result = base ** exp\n",
        "  return result\n",
        "\n",
        "b = int(input(\"Enter a number: \"))\n",
        "e = int(input(\"Enter a number: \"))\n",
        "\n",
        "result = exponent(b,e)\n",
        "print(result)"
      ],
      "metadata": {
        "colab": {
          "base_uri": "https://localhost:8080/"
        },
        "id": "j8hYRVowJmGq",
        "outputId": "65388c39-ed99-4b82-dece-378fa9d514ce"
      },
      "execution_count": null,
      "outputs": [
        {
          "output_type": "stream",
          "name": "stdout",
          "text": [
            "Enter a number: 2\n",
            "Enter a number: 5\n",
            "32\n"
          ]
        }
      ]
    },
    {
      "cell_type": "markdown",
      "source": [
        "4."
      ],
      "metadata": {
        "id": "x9gJpijrKGiX"
      }
    },
    {
      "cell_type": "code",
      "source": [
        "def sum_of_cubes(n):\n",
        "  if n <= 0:\n",
        "    return \"Please enter a positive number\"\n",
        "\n",
        "  sum_result = sum(i**3 for i in range(1, n))\n",
        "  return sum_result\n",
        "\n",
        "num = int(input(\"Enter a positive integer: \"))\n",
        "result = sum_of_cubes(num)\n",
        "\n",
        "print(result)\n"
      ],
      "metadata": {
        "colab": {
          "base_uri": "https://localhost:8080/"
        },
        "id": "OiyjtaH-KHkP",
        "outputId": "f8c15890-3df8-464b-d2d1-ef2f6907dfbb"
      },
      "execution_count": null,
      "outputs": [
        {
          "output_type": "stream",
          "name": "stdout",
          "text": [
            "Enter a positive integer: 4\n",
            "36\n"
          ]
        }
      ]
    },
    {
      "cell_type": "markdown",
      "source": [
        "5."
      ],
      "metadata": {
        "id": "S834_8Q9Lp_Q"
      }
    },
    {
      "cell_type": "code",
      "source": [
        "def multiple(n):\n",
        "    for i in range(n):\n",
        "        if i % 2 == 0:\n",
        "          print(\"Fizz\")\n",
        "        elif i % 5 == 0:\n",
        "          print(\"Buzz\")\n",
        "        elif i % 2 and i % 5:\n",
        "          print(\"FizzBuzz\")\n",
        "        else:\n",
        "          print(\"Invalid number\")\n",
        "\n",
        "\n",
        "num = int(input(\"Enter a number: \"))\n",
        "\n",
        "result = multiple(num)\n",
        "print(result)\n",
        "\n"
      ],
      "metadata": {
        "colab": {
          "base_uri": "https://localhost:8080/"
        },
        "id": "tKD32RmPLrGm",
        "outputId": "7fc364df-b1f6-44a5-f412-ee28bcd76c0e"
      },
      "execution_count": 1,
      "outputs": [
        {
          "output_type": "stream",
          "name": "stdout",
          "text": [
            "Enter a number: 2\n",
            "Fizz\n",
            "FizzBuzz\n",
            "None\n"
          ]
        }
      ]
    },
    {
      "cell_type": "markdown",
      "source": [
        "6."
      ],
      "metadata": {
        "id": "-AJ0kyT998T-"
      }
    },
    {
      "cell_type": "code",
      "source": [
        "def most_frequent_item(n):\n",
        "  if not n:\n",
        "    return \"The list is empty.\"\n",
        "\n",
        "  count_dict = {}\n",
        "  for number in n:\n",
        "    count_dict[number] = count_dict.get(number, 0) + 1\n",
        "\n"
      ],
      "metadata": {
        "id": "9EDVIMj399Qr"
      },
      "execution_count": null,
      "outputs": []
    },
    {
      "cell_type": "markdown",
      "source": [
        "7."
      ],
      "metadata": {
        "id": "aBT1yeOV-yBs"
      }
    },
    {
      "cell_type": "code",
      "source": [
        "def sum_of_squares(n):\n",
        "  return sum(x**2 for x in n)\n",
        "\n",
        "num_list = [2,2,3,4,5]\n",
        "result = sum_of_squares(num_list)\n",
        "\n",
        "print(f\"The sum of squares of numbers in the list is: {result}\")"
      ],
      "metadata": {
        "colab": {
          "base_uri": "https://localhost:8080/"
        },
        "id": "dlb49xDK86Qk",
        "outputId": "94289e65-0063-479d-bb79-3a6ad50cf4c2"
      },
      "execution_count": 2,
      "outputs": [
        {
          "output_type": "stream",
          "name": "stdout",
          "text": [
            "The sum of squares of numbers in the list is: 58\n"
          ]
        }
      ]
    },
    {
      "cell_type": "markdown",
      "source": [
        "8."
      ],
      "metadata": {
        "id": "zSGXUxryEOrB"
      }
    },
    {
      "cell_type": "code",
      "source": [
        "for i in range(1, 16):\n",
        "  if i % 2 == 0:\n",
        "    print(f\"{i}-Even\")\n",
        "  else:\n",
        "    print(f\"{i}-Odd\")\n",
        "\n"
      ],
      "metadata": {
        "colab": {
          "base_uri": "https://localhost:8080/"
        },
        "id": "7VAb8oVhEPoe",
        "outputId": "9eff2a51-9f89-4947-e210-5b773c3c61d8"
      },
      "execution_count": null,
      "outputs": [
        {
          "output_type": "stream",
          "name": "stdout",
          "text": [
            "1-Odd\n",
            "2-Even\n",
            "3-Odd\n",
            "4-Even\n",
            "5-Odd\n",
            "6-Even\n",
            "7-Odd\n",
            "8-Even\n",
            "9-Odd\n",
            "10-Even\n",
            "11-Odd\n",
            "12-Even\n",
            "13-Odd\n",
            "14-Even\n",
            "15-Odd\n"
          ]
        }
      ]
    },
    {
      "cell_type": "markdown",
      "source": [
        "9."
      ],
      "metadata": {
        "id": "BptnREI3Fy-k"
      }
    },
    {
      "cell_type": "code",
      "source": [
        "def celsius_to_fahrenheit(celsius):\n",
        "  return (celsius * 9/5) + 32\n",
        "\n",
        "def fahrenheit_to_celsius(fahrenheit):\n",
        "  return (fahrenheit - 32) * 5/9\n",
        "\n",
        "choice = input(\"Choose conversion (C to F or F to C): \")\n",
        "\n",
        "if choice == \"C\":\n",
        "  celsius_value = float(input(\"Enter temperature in celsius: \"))\n",
        "  result = celsius_to_fahrenheit(celsius_value)\n",
        "  print(result)\n",
        "\n",
        "elif choice == \"F\":\n",
        "  fahrenheit_value = float(input(\"Enter temperature in fahrenheit: \"))\n",
        "  result = fahrenheit_to_celsius(fahrenheit_value)\n",
        "  print(result)\n",
        "\n",
        "else:\n",
        "  print(\"Invalid choice. Please choose 'C' or 'F'\")"
      ],
      "metadata": {
        "colab": {
          "base_uri": "https://localhost:8080/"
        },
        "id": "VTTx6S0kIBl8",
        "outputId": "08bc282e-6465-4ffe-bcca-7cabb08df1b8"
      },
      "execution_count": null,
      "outputs": [
        {
          "output_type": "stream",
          "name": "stdout",
          "text": [
            "Choose conversion (C to F or F to C): F\n",
            "Enter temperature in fahrenheit: 45\n",
            "7.222222222222222\n"
          ]
        }
      ]
    },
    {
      "cell_type": "markdown",
      "source": [
        "10."
      ],
      "metadata": {
        "id": "AwF_FK6yLInw"
      }
    },
    {
      "cell_type": "code",
      "source": [
        "def factorial_of_number(n):\n",
        "  if n == 0 or n == 1:\n",
        "    return 1\n",
        "  else:\n",
        "    return n * factorial_of_number(n-1)\n",
        "\n",
        "number = int(input(\"Enter a number: \"))\n",
        "result = factorial_of_number(number)\n",
        "\n",
        "print(result)"
      ],
      "metadata": {
        "colab": {
          "base_uri": "https://localhost:8080/"
        },
        "id": "WFvDHbxl-g-_",
        "outputId": "69771d6b-118f-4ec4-b5d5-69be31da9eef"
      },
      "execution_count": null,
      "outputs": [
        {
          "output_type": "stream",
          "name": "stdout",
          "text": [
            "Enter a number: 5\n",
            "120\n"
          ]
        }
      ]
    },
    {
      "cell_type": "markdown",
      "source": [
        "python challenge 2:"
      ],
      "metadata": {
        "id": "XkX6KPNf9u5E"
      }
    },
    {
      "cell_type": "code",
      "source": [
        "def even_odd(n):\n",
        "  if n == 1:\n",
        "     print(\"Weird\")\n",
        "  elif n % 2 == 0 and range(2 ,5):\n",
        "     print(\"Not Weird\")\n",
        "  elif n % 2 == 0 and range(6 ,20):\n",
        "     print(\"Weird\")\n",
        "  else:\n",
        "    if n % 2 == 0  and n > 20:\n",
        "     print(\"Not Weird\")"
      ],
      "metadata": {
        "id": "iNQVLUCV9_04"
      },
      "execution_count": 12,
      "outputs": []
    }
  ]
}