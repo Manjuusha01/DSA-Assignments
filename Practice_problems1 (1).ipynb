{
  "nbformat": 4,
  "nbformat_minor": 0,
  "metadata": {
    "colab": {
      "provenance": []
    },
    "kernelspec": {
      "name": "python3",
      "display_name": "Python 3"
    },
    "language_info": {
      "name": "python"
    }
  },
  "cells": [
    {
      "cell_type": "code",
      "execution_count": null,
      "metadata": {
        "id": "0XUTbjuHq8jN"
      },
      "outputs": [],
      "source": []
    },
    {
      "cell_type": "markdown",
      "source": [
        "1."
      ],
      "metadata": {
        "id": "brKuIWXrrBQy"
      }
    },
    {
      "cell_type": "code",
      "source": [
        "def area_of_circle(r):\n",
        "  area = 3.14 * r**2\n",
        "  return area\n",
        "\n",
        "rad = int(input(\"Enter the radius: \"))\n",
        "result = area_of_circle(rad)\n",
        "\n",
        "print(f\"Area of the circle with radius {rad} is {result}.\")"
      ],
      "metadata": {
        "id": "JrkljY29rCd0",
        "colab": {
          "base_uri": "https://localhost:8080/"
        },
        "outputId": "bca7d205-b480-4a45-bf32-35e52999fbb9"
      },
      "execution_count": null,
      "outputs": [
        {
          "output_type": "stream",
          "name": "stdout",
          "text": [
            "Enter the radius: 4\n",
            "Area of the circle with radius 4 is 50.24.\n"
          ]
        }
      ]
    },
    {
      "cell_type": "markdown",
      "source": [
        "2."
      ],
      "metadata": {
        "id": "rkCpBFnFrbKS"
      }
    },
    {
      "cell_type": "code",
      "source": [
        "name = input(\"Enter the Name: \")\n",
        "\n",
        "roll_no = int(input(\"Enter the Roll No: \"))\n",
        "\n",
        "mark = int(input(\"Enter the Mark: \"))\n",
        "\n",
        "print(\"Name: \" ,name,)\n",
        "print(\"Roll No: \" ,roll_no,)\n",
        "print(\"Mark: \" ,mark,)\n"
      ],
      "metadata": {
        "colab": {
          "base_uri": "https://localhost:8080/"
        },
        "id": "wRCmw4X0FPmL",
        "outputId": "15a1b3b9-5d6d-49ca-876c-27f50143209c"
      },
      "execution_count": null,
      "outputs": [
        {
          "output_type": "stream",
          "name": "stdout",
          "text": [
            "Enter the Name: Manjusha\n",
            "Enter the Roll No: 21\n",
            "Enter the Mark: 82\n",
            "Name:  Manjusha\n",
            "Roll No:  21\n",
            "Mark:  82\n"
          ]
        }
      ]
    },
    {
      "cell_type": "markdown",
      "source": [
        "3."
      ],
      "metadata": {
        "id": "vbkXvWh7sOgO"
      }
    },
    {
      "cell_type": "code",
      "source": [
        "def largest_number(n):\n",
        "  largest_number = max(n)\n",
        "  return largest_number\n",
        "\n",
        "num_list = [12,34,65,78,24,77]\n",
        "result = largest_number(num_list)\n",
        "\n",
        "print(f\"The largest number in the list is : {result}\")"
      ],
      "metadata": {
        "colab": {
          "base_uri": "https://localhost:8080/"
        },
        "id": "p5PWcnFaHiIj",
        "outputId": "78fe4119-873c-4d9a-d0fd-939c63cd6288"
      },
      "execution_count": null,
      "outputs": [
        {
          "output_type": "stream",
          "name": "stdout",
          "text": [
            "The largest number in the list is : 78\n"
          ]
        }
      ]
    },
    {
      "cell_type": "markdown",
      "source": [
        "4."
      ],
      "metadata": {
        "id": "TYe6LKuys-pP"
      }
    },
    {
      "cell_type": "code",
      "source": [
        "for current_number in range(1, 11):\n",
        "  previous_number = current_number - 1 if current_number > 1 else 0\n",
        "\n",
        "  current_sum = current_number + previous_number\n",
        "\n",
        "  print(f\"{current_sum}\")\n"
      ],
      "metadata": {
        "colab": {
          "base_uri": "https://localhost:8080/"
        },
        "id": "KOr-MnyGs_jz",
        "outputId": "38a1560e-2a4a-4eda-8c82-08e85de4f812"
      },
      "execution_count": 4,
      "outputs": [
        {
          "output_type": "stream",
          "name": "stdout",
          "text": [
            "1\n",
            "3\n",
            "5\n",
            "7\n",
            "9\n",
            "11\n",
            "13\n",
            "15\n",
            "17\n",
            "19\n"
          ]
        }
      ]
    },
    {
      "cell_type": "markdown",
      "source": [
        "5."
      ],
      "metadata": {
        "id": "liXE9VLpu709"
      }
    },
    {
      "cell_type": "code",
      "source": [
        "def divisible_of_5(num):\n",
        "   return [n for n in num if n % 5 == 0]\n",
        "\n",
        "\n",
        "num_list = [25,57,85,99,20,18,19,60]\n",
        "result = divisible_of_5(num_list)\n",
        "\n",
        "print(result)\n",
        ""
      ],
      "metadata": {
        "id": "enuXgjNMu8t-",
        "colab": {
          "base_uri": "https://localhost:8080/"
        },
        "outputId": "ae3eef39-418f-4662-ad17-1c1e5a4f1c31"
      },
      "execution_count": 9,
      "outputs": [
        {
          "output_type": "stream",
          "name": "stdout",
          "text": [
            "[25, 85, 20, 60]\n"
          ]
        }
      ]
    },
    {
      "cell_type": "markdown",
      "source": [
        "6."
      ],
      "metadata": {
        "id": "f7h_cMWZzI6s"
      }
    },
    {
      "cell_type": "code",
      "source": [
        "def prime_or_not(num):\n",
        "  if num <= 1:\n",
        "    return False\n",
        "  for i in range(2, int(num**0.5) + 1):\n",
        "    if num % i == 0:\n",
        "      return False\n",
        "  return True\n",
        "\n",
        "n = int(input(\"Enter a number: \"))\n",
        "if prime_or_not(n):\n",
        "  print(f\"{n} is a prime number.\")\n",
        "else:\n",
        "  print(f\"{n} is not a prime number.\")\n",
        "\n",
        "\n"
      ],
      "metadata": {
        "colab": {
          "base_uri": "https://localhost:8080/"
        },
        "id": "mr4NbACgzJ6f",
        "outputId": "638b36db-f9b6-4798-a721-fd8896ea323c"
      },
      "execution_count": 11,
      "outputs": [
        {
          "output_type": "stream",
          "name": "stdout",
          "text": [
            "Enter a number: 3\n",
            "3 is a prime number.\n"
          ]
        }
      ]
    },
    {
      "cell_type": "markdown",
      "source": [
        "7."
      ],
      "metadata": {
        "id": "_Ca05AS40m1c"
      }
    },
    {
      "cell_type": "code",
      "source": [
        "original_list = [10,11,12,13,14,15]\n",
        "\n",
        "reversed_list = []\n",
        "for item in reversed(original_list):\n",
        "  reversed_list.append(item)\n",
        "\n",
        "print(\"Original list:\",original_list)\n",
        "print(\"Reversed_list:\",reversed_list)"
      ],
      "metadata": {
        "colab": {
          "base_uri": "https://localhost:8080/"
        },
        "id": "SdIjGW9O0oLp",
        "outputId": "965ea028-35b4-450f-b1ec-866367390645"
      },
      "execution_count": 12,
      "outputs": [
        {
          "output_type": "stream",
          "name": "stdout",
          "text": [
            "Original list: [10, 11, 12, 13, 14, 15]\n",
            "Reversed_list: [15, 14, 13, 12, 11, 10]\n"
          ]
        }
      ]
    },
    {
      "cell_type": "markdown",
      "source": [
        "8."
      ],
      "metadata": {
        "id": "oMV2eksu17b7"
      }
    },
    {
      "cell_type": "code",
      "source": [
        "def py_pattern(n):\n",
        "  for i in range(1, n + 1):\n",
        "    print('*' * i)\n",
        "\n",
        "num = 4\n",
        "py_pattern(4)"
      ],
      "metadata": {
        "colab": {
          "base_uri": "https://localhost:8080/"
        },
        "id": "tC8x04Tk18Xj",
        "outputId": "8390d88b-c9f2-4d89-e1fa-d40135c0213a"
      },
      "execution_count": 14,
      "outputs": [
        {
          "output_type": "stream",
          "name": "stdout",
          "text": [
            "*\n",
            "**\n",
            "***\n",
            "****\n"
          ]
        }
      ]
    },
    {
      "cell_type": "markdown",
      "source": [
        "9."
      ],
      "metadata": {
        "id": "MgUkqwPz2x3e"
      }
    },
    {
      "cell_type": "code",
      "source": [
        "a,b,c = input(\"Enter three numbers: \").split(\",\")\n",
        "\n",
        "maximum = max(a,b,c)\n",
        "\n",
        "print(f\"Maximum of three numbers is\",maximum)"
      ],
      "metadata": {
        "colab": {
          "base_uri": "https://localhost:8080/"
        },
        "id": "auH0FYX02yu7",
        "outputId": "f87a4281-043a-4133-d035-5c51287b3ff6"
      },
      "execution_count": 16,
      "outputs": [
        {
          "output_type": "stream",
          "name": "stdout",
          "text": [
            "Enter three numbers: 5,7,9\n",
            "Maximum of three numbers is 9\n"
          ]
        }
      ]
    },
    {
      "cell_type": "markdown",
      "source": [
        "10."
      ],
      "metadata": {
        "id": "AL-2Bt8L3rgt"
      }
    },
    {
      "cell_type": "code",
      "source": [
        "def py_pattern(n):\n",
        "  for i in range(1, n + 1):\n",
        "    print('*' * i)\n",
        "  for i in range(n - 1, 0, -1):\n",
        "    print('*' * i)\n",
        "\n",
        "num = 5\n",
        "py_pattern(5)"
      ],
      "metadata": {
        "colab": {
          "base_uri": "https://localhost:8080/"
        },
        "id": "YxBo4IeV3sol",
        "outputId": "0484adc7-6fab-4668-db50-e498c0c83954"
      },
      "execution_count": 17,
      "outputs": [
        {
          "output_type": "stream",
          "name": "stdout",
          "text": [
            "*\n",
            "**\n",
            "***\n",
            "****\n",
            "*****\n",
            "****\n",
            "***\n",
            "**\n",
            "*\n"
          ]
        }
      ]
    },
    {
      "cell_type": "markdown",
      "source": [
        "Python challenge1"
      ],
      "metadata": {
        "id": "VIqFPkhV4H-k"
      }
    },
    {
      "cell_type": "code",
      "source": [
        "first_name = input(\"Enter your first name: \")\n",
        "last_name = input(\"Enter your last name: \")\n",
        "\n",
        "print(f\"Hello {first_name} {last_name}! You just delved into python.\")"
      ],
      "metadata": {
        "colab": {
          "base_uri": "https://localhost:8080/"
        },
        "id": "5M8hEBig4KuU",
        "outputId": "ce517fee-cc87-4a65-f8d1-e024203cfa30"
      },
      "execution_count": 18,
      "outputs": [
        {
          "output_type": "stream",
          "name": "stdout",
          "text": [
            "Enter your first name: MS\n",
            "Enter your last name: Dhoni\n",
            "Hello MS Dhoni! You just delved into python.\n"
          ]
        }
      ]
    }
  ]
}